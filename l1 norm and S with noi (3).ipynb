{
 "cells": [
  {
   "cell_type": "code",
   "execution_count": 1,
   "id": "7ced57ef",
   "metadata": {},
   "outputs": [],
   "source": [
    "from qiskit.quantum_info import Statevector, Operator\n",
    "from qiskit import QuantumCircuit, Aer, execute\n",
    "import numpy as np\n",
    "import math\n",
    "import matplotlib.pyplot as pl\n",
    "import random"
   ]
  },
  {
   "cell_type": "markdown",
   "id": "3f391b16",
   "metadata": {},
   "source": [
    "To plot coherence l1 norm (l1), relative entropy(S) and success probability(P) as a funciton of number of iteration(noi) taking the Grover's operator as G = DO"
   ]
  },
  {
   "cell_type": "markdown",
   "id": "bb4eb2d5",
   "metadata": {},
   "source": [
    "O = ( I-2|ψ⟩⟨ψ| ) and D = ( 2|ψ1⟩⟨ψ1|-I )"
   ]
  },
  {
   "attachments": {
    "image-3.png": {
     "image/png": "[encoded data removed]"
    },
    "image-4.png": {
     "image/png": "[encoded data removed]"
    },
    "image-5.png": {
     "image/png": "[encoded data removed]"
    },
    "image-6.png": {
     "image/png": "[encoded data removed]"
    },
    "image-7.png": {
     "image/png": "[encoded data removed]"
    },
    "image-8.png": {
     "image/png": "[encoded data removed]"
    },
    "image.png": {
     "image/png": "[encoded data removed]"
    }
   },
   "cell_type": "markdown",
   "id": "318c0daf",
   "metadata": {},
   "source": [
    "l1 norm of coherence is given by![image.png](attachment:image.png)\n",
    "\n",
    "relative entropy is given by![image-8.png](attachment:image-8.png) with \n",
    "\n",
    "![image-3.png](attachment:image-3.png)   ;   ![image-4.png](attachment:image-4.png)   ;   ![image-5.png](attachment:image-5.png)   ;   ![image-6.png](attachment:image-6.png)   \n",
    "Success probability is determined by the formula![image-7.png](attachment:image-7.png)\n",
    "with t = number of target states and j = iteration number"
   ]
  },
  {
   "cell_type": "code",
   "execution_count": 12,
   "id": "3904289c",
   "metadata": {},
   "outputs": [
    {
     "name": "stdout",
     "output_type": "stream",
     "text": [
      "noi =  15\n",
      "Optimal noi =  7\n",
      "target =  [148. 168.  84.]\n",
      "phi =  [3.141592653589793]\n",
      "x =  [(-1+1.2246467991473532e-16j)]\n"
     ]
    }
   ],
   "source": [
    "n = 8      #no. of qubits\n",
    "N = 2**n   #dimension of matrix\n",
    "t = 3      #no. of target states\n",
    "length = list(range(n))\n",
    "noi = 15   #taking same number of iteration for all cases\n",
    "noi_opt = math.floor(math.sqrt(N/t) * np.pi / 4)   #optimal No of iterations\n",
    "print(\"noi = \", noi)\n",
    "print(\"Optimal noi = \",noi_opt)\n",
    "\n",
    "#to set target states by randomly generating them\n",
    "target = np.zeros(t)    #to store target states\n",
    "count = 0\n",
    "flag = 0\n",
    "i = 0\n",
    "while(True):\n",
    "    #to generate a random integer for target position\n",
    "    a = random.randint(0,N-1)\n",
    "    \n",
    "    #checking if that number has already been chosen previously as target state\n",
    "    for j in range(count):\n",
    "        if(target[j] == a):\n",
    "            flag = 1  #value is present in the target array\n",
    "            \n",
    "    #to store new value in target array\n",
    "    if(flag == 0):\n",
    "        #to store in count position of target array\n",
    "        target[count] = a\n",
    "        #updating count (position) value\n",
    "        count += 1\n",
    "        #checking for further iteration of while loop\n",
    "        if(count == t):\n",
    "            break\n",
    "print(\"target = \",target)\n",
    "\n",
    "phi = [np.pi]    #setting at a particular value\n",
    "print(\"phi = \",phi)\n",
    "\n",
    "x = [complex(np.cos(a), np.sin(a)) for a in phi]\n",
    "print(\"x = \",x)\n",
    "\n",
    "#array to store coherence values after each suboperation in every grover's iteration\n",
    "l1 = np.zeros(noi)    #to store l1 norm of coherence values after each iteration\n",
    "S  = np.zeros(noi)    #to store relative entropy values after each iteration\n",
    "P  = np.zeros(noi)    #to store success probability after each iteration\n",
    "x_axis = list(range(noi))    #to store iteration number"
   ]
  },
  {
   "cell_type": "code",
   "execution_count": 13,
   "id": "cb292786",
   "metadata": {
    "scrolled": true
   },
   "outputs": [
    {
     "name": "stdout",
     "output_type": "stream",
     "text": [
      "======================================== FOR ϕ =  180.0 ========================================\n"
     ]
    },
    {
     "data": {
      "text/plain": [
       "'initialised |ψ0⟩'"
      ]
     },
     "metadata": {},
     "output_type": "display_data"
    },
    {
     "data": {
      "text/latex": [
       "$$ |00000000\\rangle$$"
      ],
      "text/plain": [
       "<IPython.core.display.Latex object>"
      ]
     },
     "metadata": {},
     "output_type": "display_data"
    },
    {
     "name": "stdout",
     "output_type": "stream",
     "text": [
      "coherence of |ψ0⟩ =  0.0\n"
     ]
    },
    {
     "data": {
      "text/plain": [
       "'applied Hadamard to all |ψ1⟩'"
      ]
     },
     "metadata": {},
     "output_type": "display_data"
    },
    {
     "data": {
      "text/latex": [
       "$$\\frac{1}{16} |00000000\\rangle+\\frac{1}{16} |00000001\\rangle+\\frac{1}{16} |00000010\\rangle+\\frac{1}{16} |00000011\\rangle+\\frac{1}{16} |00000100\\rangle+\\frac{1}{16} |00000101\\rangle + \\ldots +\\frac{1}{16} |11111011\\rangle+\\frac{1}{16} |11111100\\rangle+\\frac{1}{16} |11111101\\rangle+\\frac{1}{16} |11111110\\rangle+\\frac{1}{16} |11111111\\rangle$$"
      ],
      "text/plain": [
       "<IPython.core.display.Latex object>"
      ]
     },
     "metadata": {},
     "output_type": "display_data"
    },
    {
     "name": "stdout",
     "output_type": "stream",
     "text": [
      "coherence of |ψ1⟩ =  255.00000000000003\n",
      "-------- 1  ITERATION--------\n"
     ]
    },
    {
     "data": {
      "text/plain": [
       "'applied O operator to |ψ2⟩'"
      ]
     },
     "metadata": {},
     "output_type": "display_data"
    },
    {
     "data": {
      "text/latex": [
       "$$\\frac{1}{16} |00000000\\rangle+\\frac{1}{16} |00000001\\rangle+\\frac{1}{16} |00000010\\rangle+\\frac{1}{16} |00000011\\rangle+\\frac{1}{16} |00000100\\rangle+\\frac{1}{16} |00000101\\rangle + \\ldots +\\frac{1}{16} |11111011\\rangle+\\frac{1}{16} |11111100\\rangle+\\frac{1}{16} |11111101\\rangle+\\frac{1}{16} |11111110\\rangle+\\frac{1}{16} |11111111\\rangle$$"
      ],
      "text/plain": [
       "<IPython.core.display.Latex object>"
      ]
     },
     "metadata": {},
     "output_type": "display_data"
    },
    {
     "data": {
      "text/plain": [
       "'applied D operator to |ψ2⟩'"
      ]
     },
     "metadata": {},
     "output_type": "display_data"
    },
    {
     "data": {
      "text/latex": [
       "$$0.0595703125 |00000000\\rangle+0.0595703125 |00000001\\rangle+0.0595703125 |00000010\\rangle+0.0595703125 |00000011\\rangle+0.0595703125 |00000100\\rangle+0.0595703125 |00000101\\rangle + \\ldots +0.0595703125 |11111011\\rangle+0.0595703125 |11111100\\rangle+0.0595703125 |11111101\\rangle+0.0595703125 |11111110\\rangle+0.0595703125 |11111111\\rangle$$"
      ],
      "text/plain": [
       "<IPython.core.display.Latex object>"
      ]
     },
     "metadata": {},
     "output_type": "display_data"
    },
    {
     "name": "stdout",
     "output_type": "stream",
     "text": [
      "coherence of |ψ2⟩ =  243.140625\n",
      "l1 norm =  243.140625\n",
      "relative entropy =  7.653268201167439\n",
      "-------- 2  ITERATION--------\n"
     ]
    },
    {
     "data": {
      "text/plain": [
       "'applied O operator to |ψ2⟩'"
      ]
     },
     "metadata": {},
     "output_type": "display_data"
    },
    {
     "data": {
      "text/latex": [
       "$$0.0595703125 |00000000\\rangle+0.0595703125 |00000001\\rangle+0.0595703125 |00000010\\rangle+0.0595703125 |00000011\\rangle+0.0595703125 |00000100\\rangle+0.0595703125 |00000101\\rangle + \\ldots +0.0595703125 |11111011\\rangle+0.0595703125 |11111100\\rangle+0.0595703125 |11111101\\rangle+0.0595703125 |11111110\\rangle+0.0595703125 |11111111\\rangle$$"
      ],
      "text/plain": [
       "<IPython.core.display.Latex object>"
      ]
     },
     "metadata": {},
     "output_type": "display_data"
    },
    {
     "data": {
      "text/plain": [
       "'applied D operator to |ψ2⟩'"
      ]
     },
     "metadata": {},
     "output_type": "display_data"
    },
    {
     "data": {
      "text/latex": [
       "$$\\frac{16 \\cdot 2^{\\frac{100}{207}} \\cdot 3^{\\frac{28}{207}} \\cdot 5^{\\frac{55}{207}} \\cdot 7^{\\frac{4}{23}} \\pi^{\\frac{764}{207}}}{70875} |00000000\\rangle+\\frac{16 \\cdot 2^{\\frac{100}{207}} \\cdot 3^{\\frac{28}{207}} \\cdot 5^{\\frac{55}{207}} \\cdot 7^{\\frac{4}{23}} \\pi^{\\frac{764}{207}}}{70875} |00000001\\rangle+\\frac{16 \\cdot 2^{\\frac{100}{207}} \\cdot 3^{\\frac{28}{207}} \\cdot 5^{\\frac{55}{207}} \\cdot 7^{\\frac{4}{23}} \\pi^{\\frac{764}{207}}}{70875} |00000010\\rangle+\\frac{16 \\cdot 2^{\\frac{100}{207}} \\cdot 3^{\\frac{28}{207}} \\cdot 5^{\\frac{55}{207}} \\cdot 7^{\\frac{4}{23}} \\pi^{\\frac{764}{207}}}{70875} |00000011\\rangle+\\frac{16 \\cdot 2^{\\frac{100}{207}} \\cdot 3^{\\frac{28}{207}} \\cdot 5^{\\frac{55}{207}} \\cdot 7^{\\frac{4}{23}} \\pi^{\\frac{764}{207}}}{70875} |00000100\\rangle+\\frac{16 \\cdot 2^{\\frac{100}{207}} \\cdot 3^{\\frac{28}{207}} \\cdot 5^{\\frac{55}{207}} \\cdot 7^{\\frac{4}{23}} \\pi^{\\frac{764}{207}}}{70875} |00000101\\rangle + \\ldots +\\frac{16 \\cdot 2^{\\frac{100}{207}} \\cdot 3^{\\frac{28}{207}} \\cdot 5^{\\frac{55}{207}} \\cdot 7^{\\frac{4}{23}} \\pi^{\\frac{764}{207}}}{70875} |11111011\\rangle+\\frac{16 \\cdot 2^{\\frac{100}{207}} \\cdot 3^{\\frac{28}{207}} \\cdot 5^{\\frac{55}{207}} \\cdot 7^{\\frac{4}{23}} \\pi^{\\frac{764}{207}}}{70875} |11111100\\rangle+\\frac{16 \\cdot 2^{\\frac{100}{207}} \\cdot 3^{\\frac{28}{207}} \\cdot 5^{\\frac{55}{207}} \\cdot 7^{\\frac{4}{23}} \\pi^{\\frac{764}{207}}}{70875} |11111101\\rangle+\\frac{16 \\cdot 2^{\\frac{100}{207}} \\cdot 3^{\\frac{28}{207}} \\cdot 5^{\\frac{55}{207}} \\cdot 7^{\\frac{4}{23}} \\pi^{\\frac{764}{207}}}{70875} |11111110\\rangle+\\frac{16 \\cdot 2^{\\frac{100}{207}} \\cdot 3^{\\frac{28}{207}} \\cdot 5^{\\frac{55}{207}} \\cdot 7^{\\frac{4}{23}} \\pi^{\\frac{764}{207}}}{70875} |11111111\\rangle$$"
      ],
      "text/plain": [
       "<IPython.core.display.Latex object>"
      ]
     },
     "metadata": {},
     "output_type": "display_data"
    },
    {
     "name": "stdout",
     "output_type": "stream",
     "text": [
      "coherence of |ψ2⟩ =  209.76007461547854\n",
      "l1 norm =  209.76007461547854\n",
      "relative entropy =  6.963193836255053\n",
      "-------- 3  ITERATION--------\n"
     ]
    },
    {
     "data": {
      "text/plain": [
       "'applied O operator to |ψ2⟩'"
      ]
     },
     "metadata": {},
     "output_type": "display_data"
    },
    {
     "data": {
      "text/latex": [
       "$$\\frac{16 \\cdot 2^{\\frac{100}{207}} \\cdot 3^{\\frac{28}{207}} \\cdot 5^{\\frac{55}{207}} \\cdot 7^{\\frac{4}{23}} \\pi^{\\frac{764}{207}}}{70875} |00000000\\rangle+\\frac{16 \\cdot 2^{\\frac{100}{207}} \\cdot 3^{\\frac{28}{207}} \\cdot 5^{\\frac{55}{207}} \\cdot 7^{\\frac{4}{23}} \\pi^{\\frac{764}{207}}}{70875} |00000001\\rangle+\\frac{16 \\cdot 2^{\\frac{100}{207}} \\cdot 3^{\\frac{28}{207}} \\cdot 5^{\\frac{55}{207}} \\cdot 7^{\\frac{4}{23}} \\pi^{\\frac{764}{207}}}{70875} |00000010\\rangle+\\frac{16 \\cdot 2^{\\frac{100}{207}} \\cdot 3^{\\frac{28}{207}} \\cdot 5^{\\frac{55}{207}} \\cdot 7^{\\frac{4}{23}} \\pi^{\\frac{764}{207}}}{70875} |00000011\\rangle+\\frac{16 \\cdot 2^{\\frac{100}{207}} \\cdot 3^{\\frac{28}{207}} \\cdot 5^{\\frac{55}{207}} \\cdot 7^{\\frac{4}{23}} \\pi^{\\frac{764}{207}}}{70875} |00000100\\rangle+\\frac{16 \\cdot 2^{\\frac{100}{207}} \\cdot 3^{\\frac{28}{207}} \\cdot 5^{\\frac{55}{207}} \\cdot 7^{\\frac{4}{23}} \\pi^{\\frac{764}{207}}}{70875} |00000101\\rangle + \\ldots +\\frac{16 \\cdot 2^{\\frac{100}{207}} \\cdot 3^{\\frac{28}{207}} \\cdot 5^{\\frac{55}{207}} \\cdot 7^{\\frac{4}{23}} \\pi^{\\frac{764}{207}}}{70875} |11111011\\rangle+\\frac{16 \\cdot 2^{\\frac{100}{207}} \\cdot 3^{\\frac{28}{207}} \\cdot 5^{\\frac{55}{207}} \\cdot 7^{\\frac{4}{23}} \\pi^{\\frac{764}{207}}}{70875} |11111100\\rangle+\\frac{16 \\cdot 2^{\\frac{100}{207}} \\cdot 3^{\\frac{28}{207}} \\cdot 5^{\\frac{55}{207}} \\cdot 7^{\\frac{4}{23}} \\pi^{\\frac{764}{207}}}{70875} |11111101\\rangle+\\frac{16 \\cdot 2^{\\frac{100}{207}} \\cdot 3^{\\frac{28}{207}} \\cdot 5^{\\frac{55}{207}} \\cdot 7^{\\frac{4}{23}} \\pi^{\\frac{764}{207}}}{70875} |11111110\\rangle+\\frac{16 \\cdot 2^{\\frac{100}{207}} \\cdot 3^{\\frac{28}{207}} \\cdot 5^{\\frac{55}{207}} \\cdot 7^{\\frac{4}{23}} \\pi^{\\frac{764}{207}}}{70875} |11111111\\rangle$$"
      ],
      "text/plain": [
       "<IPython.core.display.Latex object>"
      ]
     },
     "metadata": {},
     "output_type": "display_data"
    },
    {
     "data": {
      "text/plain": [
       "'applied D operator to |ψ2⟩'"
      ]
     },
     "metadata": {},
     "output_type": "display_data"
    },
    {
     "data": {
      "text/latex": [
       "$$\\frac{19683 \\cdot 2^{\\frac{5}{14}} \\cdot 3^{\\frac{27}{28}} \\pi^{\\frac{115}{28}}}{175616000} |00000000\\rangle+\\frac{19683 \\cdot 2^{\\frac{5}{14}} \\cdot 3^{\\frac{27}{28}} \\pi^{\\frac{115}{28}}}{175616000} |00000001\\rangle+\\frac{19683 \\cdot 2^{\\frac{5}{14}} \\cdot 3^{\\frac{27}{28}} \\pi^{\\frac{115}{28}}}{175616000} |00000010\\rangle+\\frac{19683 \\cdot 2^{\\frac{5}{14}} \\cdot 3^{\\frac{27}{28}} \\pi^{\\frac{115}{28}}}{175616000} |00000011\\rangle+\\frac{19683 \\cdot 2^{\\frac{5}{14}} \\cdot 3^{\\frac{27}{28}} \\pi^{\\frac{115}{28}}}{175616000} |00000100\\rangle+\\frac{19683 \\cdot 2^{\\frac{5}{14}} \\cdot 3^{\\frac{27}{28}} \\pi^{\\frac{115}{28}}}{175616000} |00000101\\rangle + \\ldots +\\frac{19683 \\cdot 2^{\\frac{5}{14}} \\cdot 3^{\\frac{27}{28}} \\pi^{\\frac{115}{28}}}{175616000} |11111011\\rangle+\\frac{19683 \\cdot 2^{\\frac{5}{14}} \\cdot 3^{\\frac{27}{28}} \\pi^{\\frac{115}{28}}}{175616000} |11111100\\rangle+\\frac{19683 \\cdot 2^{\\frac{5}{14}} \\cdot 3^{\\frac{27}{28}} \\pi^{\\frac{115}{28}}}{175616000} |11111101\\rangle+\\frac{19683 \\cdot 2^{\\frac{5}{14}} \\cdot 3^{\\frac{27}{28}} \\pi^{\\frac{115}{28}}}{175616000} |11111110\\rangle+\\frac{19683 \\cdot 2^{\\frac{5}{14}} \\cdot 3^{\\frac{27}{28}} \\pi^{\\frac{115}{28}}}{175616000} |11111111\\rangle$$"
      ],
      "text/plain": [
       "<IPython.core.display.Latex object>"
      ]
     },
     "metadata": {},
     "output_type": "display_data"
    },
    {
     "name": "stdout",
     "output_type": "stream",
     "text": [
      "coherence of |ψ2⟩ =  161.04385610762984\n",
      "l1 norm =  161.04385610762984\n",
      "relative entropy =  5.949163551385695\n",
      "-------- 4  ITERATION--------\n"
     ]
    },
    {
     "data": {
      "text/plain": [
       "'applied O operator to |ψ2⟩'"
      ]
     },
     "metadata": {},
     "output_type": "display_data"
    },
    {
     "data": {
      "text/latex": [
       "$$\\frac{19683 \\cdot 2^{\\frac{5}{14}} \\cdot 3^{\\frac{27}{28}} \\pi^{\\frac{115}{28}}}{175616000} |00000000\\rangle+\\frac{19683 \\cdot 2^{\\frac{5}{14}} \\cdot 3^{\\frac{27}{28}} \\pi^{\\frac{115}{28}}}{175616000} |00000001\\rangle+\\frac{19683 \\cdot 2^{\\frac{5}{14}} \\cdot 3^{\\frac{27}{28}} \\pi^{\\frac{115}{28}}}{175616000} |00000010\\rangle+\\frac{19683 \\cdot 2^{\\frac{5}{14}} \\cdot 3^{\\frac{27}{28}} \\pi^{\\frac{115}{28}}}{175616000} |00000011\\rangle+\\frac{19683 \\cdot 2^{\\frac{5}{14}} \\cdot 3^{\\frac{27}{28}} \\pi^{\\frac{115}{28}}}{175616000} |00000100\\rangle+\\frac{19683 \\cdot 2^{\\frac{5}{14}} \\cdot 3^{\\frac{27}{28}} \\pi^{\\frac{115}{28}}}{175616000} |00000101\\rangle + \\ldots +\\frac{19683 \\cdot 2^{\\frac{5}{14}} \\cdot 3^{\\frac{27}{28}} \\pi^{\\frac{115}{28}}}{175616000} |11111011\\rangle+\\frac{19683 \\cdot 2^{\\frac{5}{14}} \\cdot 3^{\\frac{27}{28}} \\pi^{\\frac{115}{28}}}{175616000} |11111100\\rangle+\\frac{19683 \\cdot 2^{\\frac{5}{14}} \\cdot 3^{\\frac{27}{28}} \\pi^{\\frac{115}{28}}}{175616000} |11111101\\rangle+\\frac{19683 \\cdot 2^{\\frac{5}{14}} \\cdot 3^{\\frac{27}{28}} \\pi^{\\frac{115}{28}}}{175616000} |11111110\\rangle+\\frac{19683 \\cdot 2^{\\frac{5}{14}} \\cdot 3^{\\frac{27}{28}} \\pi^{\\frac{115}{28}}}{175616000} |11111111\\rangle$$"
      ],
      "text/plain": [
       "<IPython.core.display.Latex object>"
      ]
     },
     "metadata": {},
     "output_type": "display_data"
    },
    {
     "data": {
      "text/plain": [
       "'applied D operator to |ψ2⟩'"
      ]
     },
     "metadata": {},
     "output_type": "display_data"
    },
    {
     "data": {
      "text/latex": [
       "$$0.035218302161 |00000000\\rangle+0.035218302161 |00000001\\rangle+0.035218302161 |00000010\\rangle+0.035218302161 |00000011\\rangle+0.035218302161 |00000100\\rangle+0.035218302161 |00000101\\rangle + \\ldots +0.035218302161 |11111011\\rangle+0.035218302161 |11111100\\rangle+0.035218302161 |11111101\\rangle+0.035218302161 |11111110\\rangle+0.035218302161 |11111111\\rangle$$"
      ],
      "text/plain": [
       "<IPython.core.display.Latex object>"
      ]
     },
     "metadata": {},
     "output_type": "display_data"
    },
    {
     "name": "stdout",
     "output_type": "stream",
     "text": [
      "coherence of |ψ2⟩ =  106.01921797449192\n",
      "l1 norm =  106.01921797449192\n",
      "relative entropy =  4.773204412573565\n",
      "-------- 5  ITERATION--------\n"
     ]
    },
    {
     "data": {
      "text/plain": [
       "'applied O operator to |ψ2⟩'"
      ]
     },
     "metadata": {},
     "output_type": "display_data"
    },
    {
     "data": {
      "text/latex": [
       "$$0.035218302161 |00000000\\rangle+0.035218302161 |00000001\\rangle+0.035218302161 |00000010\\rangle+0.035218302161 |00000011\\rangle+0.035218302161 |00000100\\rangle+0.035218302161 |00000101\\rangle + \\ldots +0.035218302161 |11111011\\rangle+0.035218302161 |11111100\\rangle+0.035218302161 |11111101\\rangle+0.035218302161 |11111110\\rangle+0.035218302161 |11111111\\rangle$$"
      ],
      "text/plain": [
       "<IPython.core.display.Latex object>"
      ]
     },
     "metadata": {},
     "output_type": "display_data"
    },
    {
     "data": {
      "text/plain": [
       "'applied D operator to |ψ2⟩'"
      ]
     },
     "metadata": {},
     "output_type": "display_data"
    },
    {
     "data": {
      "text/latex": [
       "$$0.023183663201 |00000000\\rangle+0.023183663201 |00000001\\rangle+0.023183663201 |00000010\\rangle+0.023183663201 |00000011\\rangle+0.023183663201 |00000100\\rangle+0.023183663201 |00000101\\rangle + \\ldots +0.023183663201 |11111011\\rangle+0.023183663201 |11111100\\rangle+0.023183663201 |11111101\\rangle+0.023183663201 |11111110\\rangle+0.023183663201 |11111111\\rangle$$"
      ],
      "text/plain": [
       "<IPython.core.display.Latex object>"
      ]
     },
     "metadata": {},
     "output_type": "display_data"
    },
    {
     "name": "stdout",
     "output_type": "stream",
     "text": [
      "coherence of |ψ2⟩ =  54.88237611985773\n",
      "l1 norm =  54.88237611985773\n",
      "relative entropy =  3.6638009969176553\n",
      "-------- 6  ITERATION--------\n"
     ]
    },
    {
     "data": {
      "text/plain": [
       "'applied O operator to |ψ2⟩'"
      ]
     },
     "metadata": {},
     "output_type": "display_data"
    },
    {
     "data": {
      "text/latex": [
       "$$0.023183663201 |00000000\\rangle+0.023183663201 |00000001\\rangle+0.023183663201 |00000010\\rangle+0.023183663201 |00000011\\rangle+0.023183663201 |00000100\\rangle+0.023183663201 |00000101\\rangle + \\ldots +0.023183663201 |11111011\\rangle+0.023183663201 |11111100\\rangle+0.023183663201 |11111101\\rangle+0.023183663201 |11111110\\rangle+0.023183663201 |11111111\\rangle$$"
      ],
      "text/plain": [
       "<IPython.core.display.Latex object>"
      ]
     },
     "metadata": {},
     "output_type": "display_data"
    },
    {
     "data": {
      "text/plain": [
       "'applied D operator to |ψ2⟩'"
      ]
     },
     "metadata": {},
     "output_type": "display_data"
    },
    {
     "data": {
      "text/latex": [
       "$$0.010062290029 |00000000\\rangle+0.010062290029 |00000001\\rangle+0.010062290029 |00000010\\rangle+0.010062290029 |00000011\\rangle+0.010062290029 |00000100\\rangle+0.010062290029 |00000101\\rangle + \\ldots +0.010062290029 |11111011\\rangle+0.010062290029 |11111100\\rangle+0.010062290029 |11111101\\rangle+0.010062290029 |11111110\\rangle+0.010062290029 |11111111\\rangle$$"
      ],
      "text/plain": [
       "<IPython.core.display.Latex object>"
      ]
     },
     "metadata": {},
     "output_type": "display_data"
    },
    {
     "name": "stdout",
     "output_type": "stream",
     "text": [
      "coherence of |ψ2⟩ =  17.10912716683567\n",
      "l1 norm =  17.10912716683567\n",
      "relative entropy =  2.8947050286718063\n",
      "-------- 7  ITERATION--------\n"
     ]
    },
    {
     "data": {
      "text/plain": [
       "'applied O operator to |ψ2⟩'"
      ]
     },
     "metadata": {},
     "output_type": "display_data"
    },
    {
     "data": {
      "text/latex": [
       "$$0.010062290029 |00000000\\rangle+0.010062290029 |00000001\\rangle+0.010062290029 |00000010\\rangle+0.010062290029 |00000011\\rangle+0.010062290029 |00000100\\rangle+0.010062290029 |00000101\\rangle + \\ldots +0.010062290029 |11111011\\rangle+0.010062290029 |11111100\\rangle+0.010062290029 |11111101\\rangle+0.010062290029 |11111110\\rangle+0.010062290029 |11111111\\rangle$$"
      ],
      "text/plain": [
       "<IPython.core.display.Latex object>"
      ]
     },
     "metadata": {},
     "output_type": "display_data"
    },
    {
     "data": {
      "text/plain": [
       "'applied D operator to |ψ2⟩'"
      ]
     },
     "metadata": {},
     "output_type": "display_data"
    },
    {
     "data": {
      "text/latex": [
       "$$-0.003530752988 |00000000\\rangle-0.003530752988 |00000001\\rangle-0.003530752988 |00000010\\rangle-0.003530752988 |00000011\\rangle-0.003530752988 |00000100\\rangle-0.003530752988 |00000101\\rangle + \\ldots -0.003530752988 |11111011\\rangle-0.003530752988 |11111100\\rangle-0.003530752988 |11111101\\rangle-0.003530752988 |11111110\\rangle-0.003530752988 |11111111\\rangle$$"
      ],
      "text/plain": [
       "<IPython.core.display.Latex object>"
      ]
     },
     "metadata": {},
     "output_type": "display_data"
    },
    {
     "name": "stdout",
     "output_type": "stream",
     "text": [
      "coherence of |ψ2⟩ =  5.878018975104173\n",
      "l1 norm =  5.878018975104173\n",
      "relative entropy =  2.8543541421479253\n",
      "-------- 8  ITERATION--------\n"
     ]
    },
    {
     "data": {
      "text/plain": [
       "'applied O operator to |ψ2⟩'"
      ]
     },
     "metadata": {},
     "output_type": "display_data"
    },
    {
     "data": {
      "text/latex": [
       "$$-0.003530752988 |00000000\\rangle-0.003530752988 |00000001\\rangle-0.003530752988 |00000010\\rangle-0.003530752988 |00000011\\rangle-0.003530752988 |00000100\\rangle-0.003530752988 |00000101\\rangle + \\ldots -0.003530752988 |11111011\\rangle-0.003530752988 |11111100\\rangle-0.003530752988 |11111101\\rangle-0.003530752988 |11111110\\rangle-0.003530752988 |11111111\\rangle$$"
      ],
      "text/plain": [
       "<IPython.core.display.Latex object>"
      ]
     },
     "metadata": {},
     "output_type": "display_data"
    },
    {
     "data": {
      "text/plain": [
       "'applied D operator to |ψ2⟩'"
      ]
     },
     "metadata": {},
     "output_type": "display_data"
    },
    {
     "data": {
      "text/latex": [
       "$$-0.016958291959 |00000000\\rangle-0.016958291959 |00000001\\rangle-0.016958291959 |00000010\\rangle-0.016958291959 |00000011\\rangle-0.016958291959 |00000100\\rangle-0.016958291959 |00000101\\rangle + \\ldots -0.016958291959 |11111011\\rangle-0.016958291959 |11111100\\rangle-0.016958291959 |11111101\\rangle-0.016958291959 |11111110\\rangle-0.016958291959 |11111111\\rangle$$"
      ],
      "text/plain": [
       "<IPython.core.display.Latex object>"
      ]
     },
     "metadata": {},
     "output_type": "display_data"
    },
    {
     "name": "stdout",
     "output_type": "stream",
     "text": [
      "coherence of |ψ2⟩ =  34.50131479432531\n",
      "l1 norm =  34.50131479432531\n",
      "relative entropy =  3.7365958577994878\n",
      "-------- 9  ITERATION--------\n"
     ]
    },
    {
     "data": {
      "text/plain": [
       "'applied O operator to |ψ2⟩'"
      ]
     },
     "metadata": {},
     "output_type": "display_data"
    },
    {
     "data": {
      "text/latex": [
       "$$-0.016958291959 |00000000\\rangle-0.016958291959 |00000001\\rangle-0.016958291959 |00000010\\rangle-0.016958291959 |00000011\\rangle-0.016958291959 |00000100\\rangle-0.016958291959 |00000101\\rangle + \\ldots -0.016958291959 |11111011\\rangle-0.016958291959 |11111100\\rangle-0.016958291959 |11111101\\rangle-0.016958291959 |11111110\\rangle-0.016958291959 |11111111\\rangle$$"
      ],
      "text/plain": [
       "<IPython.core.display.Latex object>"
      ]
     },
     "metadata": {},
     "output_type": "display_data"
    },
    {
     "data": {
      "text/plain": [
       "'applied D operator to |ψ2⟩'"
      ]
     },
     "metadata": {},
     "output_type": "display_data"
    },
    {
     "data": {
      "text/latex": [
       "$$-0.029590910994 |00000000\\rangle-0.029590910994 |00000001\\rangle-0.029590910994 |00000010\\rangle-0.029590910994 |00000011\\rangle-0.029590910994 |00000100\\rangle-0.029590910994 |00000101\\rangle + \\ldots -0.029590910994 |11111011\\rangle-0.029590910994 |11111100\\rangle-0.029590910994 |11111101\\rangle-0.029590910994 |11111110\\rangle-0.029590910994 |11111111\\rangle$$"
      ],
      "text/plain": [
       "<IPython.core.display.Latex object>"
      ]
     },
     "metadata": {},
     "output_type": "display_data"
    },
    {
     "name": "stdout",
     "output_type": "stream",
     "text": [
      "coherence of |ψ2⟩ =  80.2648699081961\n",
      "l1 norm =  80.2648699081961\n",
      "relative entropy =  4.991460340744405\n",
      "-------- 10  ITERATION--------\n"
     ]
    },
    {
     "data": {
      "text/plain": [
       "'applied O operator to |ψ2⟩'"
      ]
     },
     "metadata": {},
     "output_type": "display_data"
    },
    {
     "data": {
      "text/latex": [
       "$$-0.029590910994 |00000000\\rangle-0.029590910994 |00000001\\rangle-0.029590910994 |00000010\\rangle-0.029590910994 |00000011\\rangle-0.029590910994 |00000100\\rangle-0.029590910994 |00000101\\rangle + \\ldots -0.029590910994 |11111011\\rangle-0.029590910994 |11111100\\rangle-0.029590910994 |11111101\\rangle-0.029590910994 |11111110\\rangle-0.029590910994 |11111111\\rangle$$"
      ],
      "text/plain": [
       "<IPython.core.display.Latex object>"
      ]
     },
     "metadata": {},
     "output_type": "display_data"
    },
    {
     "data": {
      "text/plain": [
       "'applied D operator to |ψ2⟩'"
      ]
     },
     "metadata": {},
     "output_type": "display_data"
    },
    {
     "data": {
      "text/latex": [
       "$$-0.040836456076 |00000000\\rangle-0.040836456076 |00000001\\rangle-0.040836456076 |00000010\\rangle-0.040836456076 |00000011\\rangle-0.040836456076 |00000100\\rangle-0.040836456076 |00000101\\rangle + \\ldots -0.040836456076 |11111011\\rangle-0.040836456076 |11111100\\rangle-0.040836456076 |11111101\\rangle-0.040836456076 |11111110\\rangle-0.040836456076 |11111111\\rangle$$"
      ],
      "text/plain": [
       "<IPython.core.display.Latex object>"
      ]
     },
     "metadata": {},
     "output_type": "display_data"
    },
    {
     "name": "stdout",
     "output_type": "stream",
     "text": [
      "coherence of |ψ2⟩ =  134.68857241964906\n",
      "l1 norm =  134.68857241964906\n",
      "relative entropy =  6.253716411293047\n",
      "-------- 11  ITERATION--------\n"
     ]
    },
    {
     "data": {
      "text/plain": [
       "'applied O operator to |ψ2⟩'"
      ]
     },
     "metadata": {},
     "output_type": "display_data"
    },
    {
     "data": {
      "text/latex": [
       "$$-0.040836456076 |00000000\\rangle-0.040836456076 |00000001\\rangle-0.040836456076 |00000010\\rangle-0.040836456076 |00000011\\rangle-0.040836456076 |00000100\\rangle-0.040836456076 |00000101\\rangle + \\ldots -0.040836456076 |11111011\\rangle-0.040836456076 |11111100\\rangle-0.040836456076 |11111101\\rangle-0.040836456076 |11111110\\rangle-0.040836456076 |11111111\\rangle$$"
      ],
      "text/plain": [
       "<IPython.core.display.Latex object>"
      ]
     },
     "metadata": {},
     "output_type": "display_data"
    },
    {
     "data": {
      "text/plain": [
       "'applied D operator to |ψ2⟩'"
      ]
     },
     "metadata": {},
     "output_type": "display_data"
    },
    {
     "data": {
      "text/latex": [
       "$$-0.05016779228 |00000000\\rangle-0.05016779228 |00000001\\rangle-0.05016779228 |00000010\\rangle-0.05016779228 |00000011\\rangle-0.05016779228 |00000100\\rangle-0.05016779228 |00000101\\rangle + \\ldots -0.05016779228 |11111011\\rangle-0.05016779228 |11111100\\rangle-0.05016779228 |11111101\\rangle-0.05016779228 |11111110\\rangle-0.05016779228 |11111111\\rangle$$"
      ],
      "text/plain": [
       "<IPython.core.display.Latex object>"
      ]
     },
     "metadata": {},
     "output_type": "display_data"
    },
    {
     "name": "stdout",
     "output_type": "stream",
     "text": [
      "coherence of |ψ2⟩ =  187.6875614382425\n",
      "l1 norm =  187.6875614382425\n",
      "relative entropy =  7.255648966440992\n",
      "-------- 12  ITERATION--------\n"
     ]
    },
    {
     "data": {
      "text/plain": [
       "'applied O operator to |ψ2⟩'"
      ]
     },
     "metadata": {},
     "output_type": "display_data"
    },
    {
     "data": {
      "text/latex": [
       "$$-0.05016779228 |00000000\\rangle-0.05016779228 |00000001\\rangle-0.05016779228 |00000010\\rangle-0.05016779228 |00000011\\rangle-0.05016779228 |00000100\\rangle-0.05016779228 |00000101\\rangle + \\ldots -0.05016779228 |11111011\\rangle-0.05016779228 |11111100\\rangle-0.05016779228 |11111101\\rangle-0.05016779228 |11111110\\rangle-0.05016779228 |11111111\\rangle$$"
      ],
      "text/plain": [
       "<IPython.core.display.Latex object>"
      ]
     },
     "metadata": {},
     "output_type": "display_data"
    },
    {
     "data": {
      "text/plain": [
       "'applied D operator to |ψ2⟩'"
      ]
     },
     "metadata": {},
     "output_type": "display_data"
    },
    {
     "data": {
      "text/latex": [
       "$$-0.057147513221 |00000000\\rangle-0.057147513221 |00000001\\rangle-0.057147513221 |00000010\\rangle-0.057147513221 |00000011\\rangle-0.057147513221 |00000100\\rangle-0.057147513221 |00000101\\rangle + \\ldots -0.057147513221 |11111011\\rangle-0.057147513221 |11111100\\rangle-0.057147513221 |11111101\\rangle-0.057147513221 |11111110\\rangle-0.057147513221 |11111111\\rangle$$"
      ],
      "text/plain": [
       "<IPython.core.display.Latex object>"
      ]
     },
     "metadata": {},
     "output_type": "display_data"
    },
    {
     "name": "stdout",
     "output_type": "stream",
     "text": [
      "coherence of |ψ2⟩ =  229.44097937980172\n",
      "l1 norm =  229.44097937980172\n",
      "relative entropy =  7.841885518568643\n",
      "-------- 13  ITERATION--------\n"
     ]
    },
    {
     "data": {
      "text/plain": [
       "'applied O operator to |ψ2⟩'"
      ]
     },
     "metadata": {},
     "output_type": "display_data"
    },
    {
     "data": {
      "text/latex": [
       "$$-0.057147513221 |00000000\\rangle-0.057147513221 |00000001\\rangle-0.057147513221 |00000010\\rangle-0.057147513221 |00000011\\rangle-0.057147513221 |00000100\\rangle-0.057147513221 |00000101\\rangle + \\ldots -0.057147513221 |11111011\\rangle-0.057147513221 |11111100\\rangle-0.057147513221 |11111101\\rangle-0.057147513221 |11111110\\rangle-0.057147513221 |11111111\\rangle$$"
      ],
      "text/plain": [
       "<IPython.core.display.Latex object>"
      ]
     },
     "metadata": {},
     "output_type": "display_data"
    },
    {
     "data": {
      "text/plain": [
       "'applied D operator to |ψ2⟩'"
      ]
     },
     "metadata": {},
     "output_type": "display_data"
    },
    {
     "data": {
      "text/latex": [
       "$$-0.061448444479 |00000000\\rangle-0.061448444479 |00000001\\rangle-0.061448444479 |00000010\\rangle-0.061448444479 |00000011\\rangle-0.061448444479 |00000100\\rangle-0.061448444479 |00000101\\rangle + \\ldots -0.061448444479 |11111011\\rangle-0.061448444479 |11111100\\rangle-0.061448444479 |11111101\\rangle-0.061448444479 |11111110\\rangle-0.061448444479 |11111111\\rangle$$"
      ],
      "text/plain": [
       "<IPython.core.display.Latex object>"
      ]
     },
     "metadata": {},
     "output_type": "display_data"
    },
    {
     "name": "stdout",
     "output_type": "stream",
     "text": [
      "coherence of |ψ2⟩ =  252.21180372956897\n",
      "l1 norm =  252.21180372956897\n",
      "relative entropy =  7.9994232328900985\n",
      "-------- 14  ITERATION--------\n"
     ]
    },
    {
     "data": {
      "text/plain": [
       "'applied O operator to |ψ2⟩'"
      ]
     },
     "metadata": {},
     "output_type": "display_data"
    },
    {
     "data": {
      "text/latex": [
       "$$-0.061448444479 |00000000\\rangle-0.061448444479 |00000001\\rangle-0.061448444479 |00000010\\rangle-0.061448444479 |00000011\\rangle-0.061448444479 |00000100\\rangle-0.061448444479 |00000101\\rangle + \\ldots -0.061448444479 |11111011\\rangle-0.061448444479 |11111100\\rangle-0.061448444479 |11111101\\rangle-0.061448444479 |11111110\\rangle-0.061448444479 |11111111\\rangle$$"
      ],
      "text/plain": [
       "<IPython.core.display.Latex object>"
      ]
     },
     "metadata": {},
     "output_type": "display_data"
    },
    {
     "data": {
      "text/plain": [
       "'applied D operator to |ψ2⟩'"
      ]
     },
     "metadata": {},
     "output_type": "display_data"
    },
    {
     "data": {
      "text/latex": [
       "$$-0.062868979903 |00000000\\rangle-0.062868979903 |00000001\\rangle-0.062868979903 |00000010\\rangle-0.062868979903 |00000011\\rangle-0.062868979903 |00000100\\rangle-0.062868979903 |00000101\\rangle + \\ldots -0.062868979903 |11111011\\rangle-0.062868979903 |11111100\\rangle-0.062868979903 |11111101\\rangle-0.062868979903 |11111110\\rangle-0.062868979903 |11111111\\rangle$$"
      ],
      "text/plain": [
       "<IPython.core.display.Latex object>"
      ]
     },
     "metadata": {},
     "output_type": "display_data"
    },
    {
     "name": "stdout",
     "output_type": "stream",
     "text": [
      "coherence of |ψ2⟩ =  252.21180373030043\n",
      "l1 norm =  252.21180373030043\n",
      "relative entropy =  7.91906733004109\n",
      "-------- 15  ITERATION--------\n"
     ]
    },
    {
     "data": {
      "text/plain": [
       "'applied O operator to |ψ2⟩'"
      ]
     },
     "metadata": {},
     "output_type": "display_data"
    },
    {
     "data": {
      "text/latex": [
       "$$-0.062868979903 |00000000\\rangle-0.062868979903 |00000001\\rangle-0.062868979903 |00000010\\rangle-0.062868979903 |00000011\\rangle-0.062868979903 |00000100\\rangle-0.062868979903 |00000101\\rangle + \\ldots -0.062868979903 |11111011\\rangle-0.062868979903 |11111100\\rangle-0.062868979903 |11111101\\rangle-0.062868979903 |11111110\\rangle-0.062868979903 |11111111\\rangle$$"
      ],
      "text/plain": [
       "<IPython.core.display.Latex object>"
      ]
     },
     "metadata": {},
     "output_type": "display_data"
    },
    {
     "data": {
      "text/plain": [
       "'applied D operator to |ψ2⟩'"
      ]
     },
     "metadata": {},
     "output_type": "display_data"
    },
    {
     "data": {
      "text/latex": [
       "$$-0.061342531893 |00000000\\rangle-0.061342531893 |00000001\\rangle-0.061342531893 |00000010\\rangle-0.061342531893 |00000011\\rangle-0.061342531893 |00000100\\rangle-0.061342531893 |00000101\\rangle + \\ldots -0.061342531893 |11111011\\rangle-0.061342531893 |11111100\\rangle-0.061342531893 |11111101\\rangle-0.061342531893 |11111110\\rangle-0.061342531893 |11111111\\rangle$$"
      ],
      "text/plain": [
       "<IPython.core.display.Latex object>"
      ]
     },
     "metadata": {},
     "output_type": "display_data"
    },
    {
     "name": "stdout",
     "output_type": "stream",
     "text": [
      "coherence of |ψ2⟩ =  251.78053847359854\n",
      "l1 norm =  251.78053847359854\n",
      "relative entropy =  7.99843632602507\n"
     ]
    }
   ],
   "source": [
    "def iteration(i,a):\n",
    "    qc.barrier()\n",
    "    #count = i*2\n",
    "    copy_i = i    #storing copy of iteration number\n",
    "    copy_a = a    #storing copy of phi value\n",
    "    \n",
    "    #applying O operator\n",
    "    qc.append(O_operator,length)\n",
    "    result = execute(qc, backend).result()\n",
    "    state = result.get_statevector()\n",
    "    display(\"applied O operator to |ψ2⟩\", state.draw('latex'))\n",
    "    \n",
    "    #Applying D operator\n",
    "    qc.append(D_operator,length)\n",
    "    result = execute(qc, backend).result()\n",
    "    state = result.get_statevector()\n",
    "    display(\"applied D operator to |ψ2⟩\", state.draw('latex'))\n",
    "    density_operator = state.to_operator()\n",
    "    \n",
    "    #calculating coherence by l1 norm\n",
    "    coherence = 0\n",
    "    for i in range(N):\n",
    "        for j in range(N):\n",
    "            if(i != j):\n",
    "                coherence += abs(density_operator.data[i,j])\n",
    "    print(\"coherence of |ψ2⟩ = \",coherence)\n",
    "    l1[copy_i] = coherence\n",
    "    print(\"l1 norm = \",coherence)\n",
    "    \n",
    "    #calculating coherence by relative entropy\n",
    "    j = copy_i+1   #to store the actual iteration number \n",
    "    alpha = 2*np.arctan(np.sqrt(t/(N-t)))\n",
    "    alpha_j = (j+1/2.0)*alpha    \n",
    "    a = np.sin(alpha_j)\n",
    "    a_2 = a**2\n",
    "    H = -(a_2*math.log2(a_2)+(1-a_2)*math.log2(1-a_2))\n",
    "    Cr = H+math.log2(N-j)+a_2*math.log2(j/(N-j))\n",
    "    S[copy_i] = Cr\n",
    "    print(\"relative entropy = \",Cr)\n",
    "    \n",
    "    #calculating success probability\n",
    "    P[copy_i] = np.sin(alpha_j)**2\n",
    "    \n",
    "for a in range(len(phi)):\n",
    "    print(\"======================================== FOR ϕ = \", phi[a]*180/np.pi,\"========================================\")\n",
    "    qc = QuantumCircuit(n)\n",
    "    backend = Aer.get_backend('statevector_simulator')\n",
    "    result = execute(qc, backend).result()\n",
    "    state = result.get_statevector()\n",
    "    display(\"initialised |ψ0⟩\", state.draw('latex'))\n",
    "    density_operator = state.to_operator()\n",
    "    #print(density_operator.data)\n",
    "    coherence = 0\n",
    "    for i in range(N):\n",
    "        for j in range(N):\n",
    "            if(i != j):\n",
    "                coherence += abs(density_operator.data[i,j])\n",
    "    print(\"coherence of |ψ0⟩ = \",coherence)\n",
    "\n",
    "    qc.h(length)\n",
    "    result = execute(qc, backend).result()\n",
    "    state = result.get_statevector()\n",
    "    display(\"applied Hadamard to all |ψ1⟩\", state.draw('latex'))\n",
    "    density_operator = state.to_operator()\n",
    "    #print(density_operator.data)\n",
    "    coherence = 0\n",
    "    for i in range(N):\n",
    "        for j in range(N):\n",
    "            if(i != j):\n",
    "                coherence += abs(density_operator.data[i,j])\n",
    "    print(\"coherence of |ψ1⟩ = \",coherence)\n",
    "\n",
    "    #defining generalised O Operator\n",
    "    count = 0\n",
    "    choice = a\n",
    "    O_operator = Operator(np.zeros((N,N)))\n",
    "    for i in range(N):\n",
    "        for j in range(N):\n",
    "            if(i != j):   #off diagonal elements\n",
    "                O_operator.data[i][j] = 0\n",
    "            else:    #diagonal elements\n",
    "                flag = 0\n",
    "                for k in range(t):\n",
    "                    if(i == target[k]):\n",
    "                        O_operator.data[i][j] = x[choice]\n",
    "                        count += 1\n",
    "                        flag = 1\n",
    "                        break\n",
    "                if(flag == 0):\n",
    "                    O_operator.data[i][j] = 1            \n",
    "   \n",
    "    #defining D operator\n",
    "    D_operator = Operator(np.zeros((N,N)))\n",
    "    for i in range(N):\n",
    "        for j in range(N):\n",
    "            if(i == j):    #for diagonal elements\n",
    "                D_operator.data[i][j] = 2*density_operator.data[i][j]-1\n",
    "            else:          #for off-diagonal elements\n",
    "                D_operator.data[i][j] = 2*density_operator.data[i][j]\n",
    "    \n",
    "    #sending out for x iterations of grover's operator\n",
    "    for i in range(noi):\n",
    "        print(\"--------\",(i+1),\" ITERATION--------\")\n",
    "        iteration(i,a)    #a takes angle phi and i takes noi"
   ]
  },
  {
   "cell_type": "code",
   "execution_count": 14,
   "id": "fd1f8d7d",
   "metadata": {},
   "outputs": [
    {
     "name": "stdout",
     "output_type": "stream",
     "text": [
      "l1 =  [0.94976806640625, 0.8193752914667131, 0.629077562920429, 0.4141375702128591, 0.21438428171819426, 0.06683252799545183, 0.022961011621500677, 0.13477076091533324, 0.31353464807889103, 0.5261272360142542, 0.7331545368681348, 0.8962538257023505, 0.9852023583186288, 0.9852023583214861, 0.9835177284124943]\n",
      "S_N =  [0.029895578910810308, 0.0271999759228713, 0.02323892012260037, 0.01864532973661549, 0.01431172264420959, 0.011307441518249244, 0.011149820867765333, 0.014596077569529249, 0.019497891956032833, 0.024428579731613463, 0.028342378775160125, 0.03063236530690876, 0.031247747003476947, 0.030933856757973006, 0.03124389189853543]\n",
      "P =  [1.02198601e-01 2.66392139e-01 4.73873852e-01 6.86196812e-01\n",
      " 8.64016993e-01 9.74383831e-01 9.96846047e-01 9.27241332e-01\n",
      " 7.78467631e-01 5.78093115e-01 3.63247732e-01 1.73742918e-01\n",
      " 4.46944338e-02 1.53155937e-05 4.79847266e-02]\n"
     ]
    },
    {
     "data": {
      "image/png": "[encoded data removed]",
      "text/plain": [
       "<Figure size 640x480 with 2 Axes>"
      ]
     },
     "metadata": {},
     "output_type": "display_data"
    }
   ],
   "source": [
    "l1_N = [a/N for a in l1]\n",
    "S_N  = [a/N for a in S]\n",
    "xa   = [a+1 for a in x_axis]\n",
    "\n",
    "print(\"l1 = \",l1_N)\n",
    "print(\"S_N = \",S_N)\n",
    "print(\"P = \",P)\n",
    "\n",
    "fig, ax1 = pl.subplots()\n",
    "pl.title(\"n = {} and t = {}\".format(n, t))\n",
    "color1 = 'tab:red'\n",
    "color2 = 'black'\n",
    "ax1.set_xlabel('----Number of iterations----')\n",
    "ax1.scatter(xa, l1_N, marker='d', color=color1, label='l1_norm/N')\n",
    "ax1.plot(xa, l1_N, color=color1)\n",
    "ax1.scatter(xa, P, color=color2, label='success probability')\n",
    "ax1.plot(xa, P, color=color2)\n",
    "pl.legend()\n",
    "ax1.set_ylabel(\"l1 norm and success probability\")\n",
    "pl.grid(True)\n",
    "\n",
    "ax2 = ax1.twinx()\n",
    "color = 'tab:blue'\n",
    "ax2.scatter(xa, S_N, color=color, label='S/N')\n",
    "ax2.plot(xa, S_N, color=color)\n",
    "pl.legend()\n",
    "ax2.set_ylabel('relatove entropy', color=color)\n",
    "ax2.tick_params(axis='y', labelcolor=color)\n",
    "\n",
    "fig.tight_layout()\n",
    "#pl.grid(True)\n",
    "pl.show()"
   ]
  },
  {
   "cell_type": "code",
   "execution_count": null,
   "id": "755a2da6",
   "metadata": {},
   "outputs": [],
   "source": []
  }
 ],
 "metadata": {
  "kernelspec": {
   "display_name": "Python 3 (ipykernel)",
   "language": "python",
   "name": "python3"
  },
  "language_info": {
   "codemirror_mode": {
    "name": "ipython",
    "version": 3
   },
   "file_extension": ".py",
   "mimetype": "text/x-python",
   "name": "python",
   "nbconvert_exporter": "python",
   "pygments_lexer": "ipython3",
   "version": "3.9.13"
  }
 },
 "nbformat": 4,
 "nbformat_minor": 5
}
